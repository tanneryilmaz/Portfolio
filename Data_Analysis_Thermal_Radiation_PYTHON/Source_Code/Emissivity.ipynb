{
 "cells": [
  {
   "cell_type": "code",
   "execution_count": 39,
   "metadata": {},
   "outputs": [],
   "source": [
    "import numpy as np\n",
    "import matplotlib.pyplot as plt"
   ]
  },
  {
   "cell_type": "code",
   "execution_count": 1,
   "metadata": {},
   "outputs": [
    {
     "data": {
      "text/plain": [
       "381.45399999999995"
      ]
     },
     "execution_count": 1,
     "metadata": {},
     "output_type": "execute_result"
    }
   ],
   "source": [
    "calibration = 50 # each mV measured on the radiation sensor corresponds to 50 Watts per meter squared of intensity\n",
    "STEF_BOLTZ_CONST = 5.67e-8 # units of Watts / (meter ^ 2 * Kelvin ^ 4)\n",
    "\n",
    "cube_equilib_resistance = 4.3 # kilo-Ohm's\n",
    "cube_equilib_temp = 108.304 # celisius. determined using table in lab manual\n",
    "cube_equilib_temp = 108.304 + 273.15 # converted celsius to Kelvin\n",
    "cube_equilib_temp"
   ]
  },
  {
   "cell_type": "code",
   "execution_count": 41,
   "metadata": {},
   "outputs": [],
   "source": [
    "black_face = np.array([18.8, 18.8, 18.6, 18.7, 18.5]) # these four arrays store voltage measurements in millivolts\n",
    "mirror_face = np.array([0.9, 1.0, 0.9, 0.9, 0.9])\n",
    "silver_face = np.array([5.5, 5.6, 5.5, 5.5, 5.5])\n",
    "white_face = np.array([17.3, 17.2, 17.9, 17.8, 17.7])\n",
    "\n",
    "radiation_mV = np.vstack((black_face, mirror_face, silver_face, white_face))\n",
    "radiation_mV_err = np.sqrt(0.05**2 + np.std(radiation_mV, axis = 1)**2)\n",
    "\n",
    "radiation_mV_avg = np.mean(radiation_mV, axis = 1)\n",
    "radiation_mV_avg_err = np.sqrt(5 * (1/5)**2 * radiation_mV_err**2)"
   ]
  },
  {
   "cell_type": "code",
   "execution_count": 42,
   "metadata": {},
   "outputs": [],
   "source": [
    "R = (calibration * radiation_mV_avg)\n",
    "R_err = (calibration * radiation_mV_avg_err)\n",
    "\n",
    "emissivity = R / (STEF_BOLTZ_CONST * cube_equilib_temp**4) # these quantities are dimensionless (unitless)\n",
    "emissivity_err = (1/(STEF_BOLTZ_CONST * cube_equilib_temp**4)) * R_err"
   ]
  },
  {
   "cell_type": "code",
   "execution_count": 43,
   "metadata": {},
   "outputs": [
    {
     "data": {
      "text/plain": [
       "array([381.454, 381.454, 381.454, 381.454])"
      ]
     },
     "execution_count": 43,
     "metadata": {},
     "output_type": "execute_result"
    }
   ],
   "source": [
    "# all of the temperature values in this array are the same, which shows that our data analysis is going well\n",
    "(R / (emissivity * STEF_BOLTZ_CONST))**0.25 "
   ]
  },
  {
   "cell_type": "code",
   "execution_count": 44,
   "metadata": {},
   "outputs": [
    {
     "name": "stdout",
     "output_type": "stream",
     "text": [
      "Emissivity = 0.778027815639739 +/- 0.002363448742208251\n",
      "Emissivity = 0.03831828642337044 +/- 0.0011926834096982386\n",
      "Emissivity = 0.22990971854022266 +/- 0.0011926834096982369\n",
      "Emissivity = 0.7322124731770135 +/- 0.005271685680170957\n"
     ]
    }
   ],
   "source": [
    "for item in zip(emissivity, emissivity_err):\n",
    "    print(\"Emissivity = \" + str(item[0]) + \" +/- \" + str(item[1]))"
   ]
  }
 ],
 "metadata": {
  "kernelspec": {
   "display_name": "Python 3",
   "language": "python",
   "name": "python3"
  },
  "language_info": {
   "codemirror_mode": {
    "name": "ipython",
    "version": 3
   },
   "file_extension": ".py",
   "mimetype": "text/x-python",
   "name": "python",
   "nbconvert_exporter": "python",
   "pygments_lexer": "ipython3",
   "version": "3.7.1"
  }
 },
 "nbformat": 4,
 "nbformat_minor": 2
}
